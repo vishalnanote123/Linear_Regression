{
 "cells": [
  {
   "cell_type": "code",
   "execution_count": 34,
   "id": "fc94d304",
   "metadata": {},
   "outputs": [],
   "source": [
    "import pandas as pd\n",
    "import numpy as np\n",
    "import matplotlib.pyplot as plt\n",
    "import math\n",
    "from IPython.core.debugger import Tracer;\n",
    "import sklearn "
   ]
  },
  {
   "cell_type": "code",
   "execution_count": 26,
   "id": "f4cbcddc",
   "metadata": {},
   "outputs": [],
   "source": [
    "df = pd.read_csv(\"C:\\\\Users\\\\Acer\\\\Downloads\\\\train (1).csv\")\n",
    "test = pd.read_csv(\"C:\\\\Users\\\\Acer\\\\Downloads\\\\test (1).csv\")"
   ]
  },
  {
   "cell_type": "code",
   "execution_count": 6,
   "id": "5e018313",
   "metadata": {},
   "outputs": [
    {
     "data": {
      "text/html": [
       "<div>\n",
       "<style scoped>\n",
       "    .dataframe tbody tr th:only-of-type {\n",
       "        vertical-align: middle;\n",
       "    }\n",
       "\n",
       "    .dataframe tbody tr th {\n",
       "        vertical-align: top;\n",
       "    }\n",
       "\n",
       "    .dataframe thead th {\n",
       "        text-align: right;\n",
       "    }\n",
       "</style>\n",
       "<table border=\"1\" class=\"dataframe\">\n",
       "  <thead>\n",
       "    <tr style=\"text-align: right;\">\n",
       "      <th></th>\n",
       "      <th>x</th>\n",
       "      <th>y</th>\n",
       "    </tr>\n",
       "  </thead>\n",
       "  <tbody>\n",
       "    <tr>\n",
       "      <th>0</th>\n",
       "      <td>24.0</td>\n",
       "      <td>21.549452</td>\n",
       "    </tr>\n",
       "    <tr>\n",
       "      <th>1</th>\n",
       "      <td>50.0</td>\n",
       "      <td>47.464463</td>\n",
       "    </tr>\n",
       "    <tr>\n",
       "      <th>2</th>\n",
       "      <td>15.0</td>\n",
       "      <td>17.218656</td>\n",
       "    </tr>\n",
       "    <tr>\n",
       "      <th>3</th>\n",
       "      <td>38.0</td>\n",
       "      <td>36.586398</td>\n",
       "    </tr>\n",
       "    <tr>\n",
       "      <th>4</th>\n",
       "      <td>87.0</td>\n",
       "      <td>87.288984</td>\n",
       "    </tr>\n",
       "    <tr>\n",
       "      <th>5</th>\n",
       "      <td>36.0</td>\n",
       "      <td>32.463875</td>\n",
       "    </tr>\n",
       "    <tr>\n",
       "      <th>6</th>\n",
       "      <td>12.0</td>\n",
       "      <td>10.780897</td>\n",
       "    </tr>\n",
       "    <tr>\n",
       "      <th>7</th>\n",
       "      <td>81.0</td>\n",
       "      <td>80.763399</td>\n",
       "    </tr>\n",
       "    <tr>\n",
       "      <th>8</th>\n",
       "      <td>25.0</td>\n",
       "      <td>24.612151</td>\n",
       "    </tr>\n",
       "    <tr>\n",
       "      <th>9</th>\n",
       "      <td>5.0</td>\n",
       "      <td>6.963319</td>\n",
       "    </tr>\n",
       "    <tr>\n",
       "      <th>10</th>\n",
       "      <td>16.0</td>\n",
       "      <td>11.237573</td>\n",
       "    </tr>\n",
       "    <tr>\n",
       "      <th>11</th>\n",
       "      <td>16.0</td>\n",
       "      <td>13.532902</td>\n",
       "    </tr>\n",
       "    <tr>\n",
       "      <th>12</th>\n",
       "      <td>24.0</td>\n",
       "      <td>24.603239</td>\n",
       "    </tr>\n",
       "    <tr>\n",
       "      <th>13</th>\n",
       "      <td>39.0</td>\n",
       "      <td>39.400500</td>\n",
       "    </tr>\n",
       "    <tr>\n",
       "      <th>14</th>\n",
       "      <td>54.0</td>\n",
       "      <td>48.437538</td>\n",
       "    </tr>\n",
       "    <tr>\n",
       "      <th>15</th>\n",
       "      <td>60.0</td>\n",
       "      <td>61.699003</td>\n",
       "    </tr>\n",
       "    <tr>\n",
       "      <th>16</th>\n",
       "      <td>26.0</td>\n",
       "      <td>26.928324</td>\n",
       "    </tr>\n",
       "    <tr>\n",
       "      <th>17</th>\n",
       "      <td>73.0</td>\n",
       "      <td>70.405205</td>\n",
       "    </tr>\n",
       "    <tr>\n",
       "      <th>18</th>\n",
       "      <td>29.0</td>\n",
       "      <td>29.340924</td>\n",
       "    </tr>\n",
       "    <tr>\n",
       "      <th>19</th>\n",
       "      <td>31.0</td>\n",
       "      <td>25.308952</td>\n",
       "    </tr>\n",
       "  </tbody>\n",
       "</table>\n",
       "</div>"
      ],
      "text/plain": [
       "       x          y\n",
       "0   24.0  21.549452\n",
       "1   50.0  47.464463\n",
       "2   15.0  17.218656\n",
       "3   38.0  36.586398\n",
       "4   87.0  87.288984\n",
       "5   36.0  32.463875\n",
       "6   12.0  10.780897\n",
       "7   81.0  80.763399\n",
       "8   25.0  24.612151\n",
       "9    5.0   6.963319\n",
       "10  16.0  11.237573\n",
       "11  16.0  13.532902\n",
       "12  24.0  24.603239\n",
       "13  39.0  39.400500\n",
       "14  54.0  48.437538\n",
       "15  60.0  61.699003\n",
       "16  26.0  26.928324\n",
       "17  73.0  70.405205\n",
       "18  29.0  29.340924\n",
       "19  31.0  25.308952"
      ]
     },
     "execution_count": 6,
     "metadata": {},
     "output_type": "execute_result"
    }
   ],
   "source": [
    "df.head(20)"
   ]
  },
  {
   "cell_type": "code",
   "execution_count": 14,
   "id": "13903b45",
   "metadata": {},
   "outputs": [
    {
     "data": {
      "text/plain": [
       "x    0\n",
       "y    1\n",
       "dtype: int64"
      ]
     },
     "execution_count": 14,
     "metadata": {},
     "output_type": "execute_result"
    }
   ],
   "source": [
    "df.isnull().sum()"
   ]
  },
  {
   "cell_type": "code",
   "execution_count": 38,
   "id": "fc46bea0",
   "metadata": {},
   "outputs": [],
   "source": [
    "df = df.dropna()"
   ]
  },
  {
   "cell_type": "code",
   "execution_count": 16,
   "id": "496ed820",
   "metadata": {},
   "outputs": [
    {
     "data": {
      "image/png": "[encoded data removed]",
      "text/plain": [
       "<Figure size 432x288 with 1 Axes>"
      ]
     },
     "metadata": {
      "needs_background": "light"
     },
     "output_type": "display_data"
    }
   ],
   "source": [
    "X= np.array(df['x'])\n",
    "y = np.array(df['y'])\n",
    "plt.scatter(X,y)\n",
    "plt.xlabel('x')\n",
    "plt.ylabel('y')\n",
    "plt.show()"
   ]
  },
  {
   "cell_type": "code",
   "execution_count": 17,
   "id": "c5f5b346",
   "metadata": {},
   "outputs": [
    {
     "data": {
      "text/plain": [
       "50.0"
      ]
     },
     "execution_count": 17,
     "metadata": {},
     "output_type": "execute_result"
    }
   ],
   "source": [
    "data = np.array(df)\n",
    "data\n",
    "data[1,0]"
   ]
  },
  {
   "cell_type": "code",
   "execution_count": 18,
   "id": "89215184",
   "metadata": {},
   "outputs": [],
   "source": [
    "def SSE(m,b,data):\n",
    "    totalError=0.0\n",
    "    totalNan = 0\n",
    "    for i in range(data.shape[0]):\n",
    "        if(math.isnan(data[i,0])):\n",
    "            totalNan +=1\n",
    "        else:\n",
    "            yOutput = m*data[i,0]+b\n",
    "            y = data[i,1]\n",
    "            error = (y-yOutput)**2\n",
    "            totalError =totalError+ error\n",
    "    return totalError"
   ]
  },
  {
   "cell_type": "code",
   "execution_count": 19,
   "id": "f09d17b2",
   "metadata": {},
   "outputs": [
    {
     "data": {
      "image/png": "[encoded data removed]",
      "text/plain": [
       "<Figure size 432x288 with 1 Axes>"
      ]
     },
     "metadata": {
      "needs_background": "light"
     },
     "output_type": "display_data"
    }
   ],
   "source": [
    "m = 2\n",
    "b = 1\n",
    "plt.scatter(X,y)\n",
    "plt.plot(X,m*X+b,color='red')\n",
    "plt.show()"
   ]
  },
  {
   "cell_type": "code",
   "execution_count": 20,
   "id": "f119e2b7",
   "metadata": {},
   "outputs": [
    {
     "name": "stdout",
     "output_type": "stream",
     "text": [
      "For the fitting line: y = 2x + 1\n",
      "SSE: 2414343.18\n"
     ]
    }
   ],
   "source": [
    "sse = SSE(m,b,data)\n",
    "print('For the fitting line: y = %sx + %s\\nSSE: %.2f' %(m,b,sse))"
   ]
  },
  {
   "cell_type": "code",
   "execution_count": 21,
   "id": "f02ef004",
   "metadata": {},
   "outputs": [],
   "source": [
    "def gradient_descent_step(m,b,data):\n",
    "    \n",
    "    n_points = data.shape[0] #size of data\n",
    "    m_grad = 0\n",
    "    b_grad = 0\n",
    "    stepper = 0.0001 #this is the learning rate\n",
    "    \n",
    "    for i in range(n_points):\n",
    "\n",
    "        #Get current pair (x,y)\n",
    "        x = data[i,0]\n",
    "        y = data[i,1]\n",
    "        if(math.isnan(x)|math.isnan(y)): #it will prevent for crashing when some data is missing\n",
    "            #print(\"is nan\")\n",
    "            continue\n",
    "        \n",
    "        #you will calculate the partical derivative for each value in data\n",
    "        #Partial derivative respect 'm'\n",
    "        dm = -((2/n_points) * x * (y - (m*x + b)))\n",
    "        \n",
    "        #Partial derivative respect 'b'\n",
    "        db = - ((2/n_points) * (y - (m*x + b)))\n",
    "       \n",
    "        \n",
    "        #Update gradient\n",
    "        m_grad = m_grad + dm\n",
    "        b_grad = b_grad + db\n",
    "    \n",
    " #Set the new 'better' updated 'm' and 'b'   \n",
    "    m_updated = m - stepper*m_grad\n",
    "    b_updated = b - stepper*b_grad\n",
    "    #print('m ', m)\n",
    "    ##print('steepr*gradient ',stepper*m_grad)\n",
    "    #print('m_updated', m_updated)\n",
    "    '''\n",
    "    Important note: The value '0.0001' that multiplies the 'm_grad' and 'b_grad' is the 'learning rate', but it's a concept\n",
    "    out of the scope of this challenge. For now, just leave that there and think about it like a 'smoother' of the learn, \n",
    "    to prevent overshooting, that is, an extremly fast and uncontrolled learning.\n",
    "    '''\n",
    "    \n",
    "    return m_updated,b_updated"
   ]
  },
  {
   "cell_type": "code",
   "execution_count": 22,
   "id": "63813bbb",
   "metadata": {},
   "outputs": [
    {
     "name": "stdout",
     "output_type": "stream",
     "text": [
      "Starting line: y = 2.00x + 1.00 - Error: 2414343.18\n",
      "\n",
      "Best  line: y = 0.99x + 0.55 - Error: 5576.24\n"
     ]
    }
   ],
   "source": [
    "print('Starting line: y = %.2fx + %.2f - Error: %.2f' %(m,b,sse))\n",
    "for i in range(10000):\n",
    "    m,b = gradient_descent_step(m,b,data)\n",
    "    sse = SSE(m,b,data)\n",
    "    #print('At step %d - Line: y = %.2fx + %.2f - Error: %.2f' %(i+1,m,b,sse))\n",
    "print('\\nBest  line: y = %.2fx + %.2f - Error: %.2f' %(m,b,sse))"
   ]
  },
  {
   "cell_type": "code",
   "execution_count": 23,
   "id": "09f5b1cd",
   "metadata": {},
   "outputs": [
    {
     "name": "stdout",
     "output_type": "stream",
     "text": [
      "m  0.9907470177020995\n",
      "b  0.5541632669421871\n"
     ]
    },
    {
     "data": {
      "image/png": "[encoded data removed]",
      "text/plain": [
       "<Figure size 432x288 with 1 Axes>"
      ]
     },
     "metadata": {
      "needs_background": "light"
     },
     "output_type": "display_data"
    }
   ],
   "source": [
    "print ('m ', m)\n",
    "print('b ', b)\n",
    "plt.scatter(X,y)\n",
    "plt.plot(X,m*X+b,color='red')\n",
    "plt.show()"
   ]
  },
  {
   "cell_type": "code",
   "execution_count": 24,
   "id": "c52186da",
   "metadata": {},
   "outputs": [
    {
     "data": {
      "text/plain": [
       "0.9907470177020995"
      ]
     },
     "execution_count": 24,
     "metadata": {},
     "output_type": "execute_result"
    }
   ],
   "source": [
    "m"
   ]
  },
  {
   "cell_type": "code",
   "execution_count": 25,
   "id": "6ed85de4",
   "metadata": {},
   "outputs": [
    {
     "data": {
      "text/plain": [
       "0.5541632669421871"
      ]
     },
     "execution_count": 25,
     "metadata": {},
     "output_type": "execute_result"
    }
   ],
   "source": [
    "b"
   ]
  },
  {
   "cell_type": "code",
   "execution_count": 27,
   "id": "ed91015b",
   "metadata": {},
   "outputs": [
    {
     "data": {
      "text/html": [
       "<div>\n",
       "<style scoped>\n",
       "    .dataframe tbody tr th:only-of-type {\n",
       "        vertical-align: middle;\n",
       "    }\n",
       "\n",
       "    .dataframe tbody tr th {\n",
       "        vertical-align: top;\n",
       "    }\n",
       "\n",
       "    .dataframe thead th {\n",
       "        text-align: right;\n",
       "    }\n",
       "</style>\n",
       "<table border=\"1\" class=\"dataframe\">\n",
       "  <thead>\n",
       "    <tr style=\"text-align: right;\">\n",
       "      <th></th>\n",
       "      <th>x</th>\n",
       "      <th>y</th>\n",
       "    </tr>\n",
       "  </thead>\n",
       "  <tbody>\n",
       "    <tr>\n",
       "      <th>0</th>\n",
       "      <td>77</td>\n",
       "      <td>79.775152</td>\n",
       "    </tr>\n",
       "    <tr>\n",
       "      <th>1</th>\n",
       "      <td>21</td>\n",
       "      <td>23.177279</td>\n",
       "    </tr>\n",
       "    <tr>\n",
       "      <th>2</th>\n",
       "      <td>22</td>\n",
       "      <td>25.609262</td>\n",
       "    </tr>\n",
       "    <tr>\n",
       "      <th>3</th>\n",
       "      <td>20</td>\n",
       "      <td>17.857388</td>\n",
       "    </tr>\n",
       "    <tr>\n",
       "      <th>4</th>\n",
       "      <td>36</td>\n",
       "      <td>41.849864</td>\n",
       "    </tr>\n",
       "    <tr>\n",
       "      <th>5</th>\n",
       "      <td>15</td>\n",
       "      <td>9.805235</td>\n",
       "    </tr>\n",
       "    <tr>\n",
       "      <th>6</th>\n",
       "      <td>62</td>\n",
       "      <td>58.874659</td>\n",
       "    </tr>\n",
       "    <tr>\n",
       "      <th>7</th>\n",
       "      <td>95</td>\n",
       "      <td>97.617937</td>\n",
       "    </tr>\n",
       "    <tr>\n",
       "      <th>8</th>\n",
       "      <td>20</td>\n",
       "      <td>18.395127</td>\n",
       "    </tr>\n",
       "    <tr>\n",
       "      <th>9</th>\n",
       "      <td>5</td>\n",
       "      <td>8.746748</td>\n",
       "    </tr>\n",
       "  </tbody>\n",
       "</table>\n",
       "</div>"
      ],
      "text/plain": [
       "    x          y\n",
       "0  77  79.775152\n",
       "1  21  23.177279\n",
       "2  22  25.609262\n",
       "3  20  17.857388\n",
       "4  36  41.849864\n",
       "5  15   9.805235\n",
       "6  62  58.874659\n",
       "7  95  97.617937\n",
       "8  20  18.395127\n",
       "9   5   8.746748"
      ]
     },
     "execution_count": 27,
     "metadata": {},
     "output_type": "execute_result"
    }
   ],
   "source": [
    "test.head(10)"
   ]
  },
  {
   "cell_type": "code",
   "execution_count": 39,
   "id": "19de9517",
   "metadata": {},
   "outputs": [],
   "source": [
    "X_train = df.iloc[:, :-1].values\n",
    "Y_train = df.iloc[:, -1].values\n",
    "X_test = test.iloc[:, :-1].values\n",
    "Y_test = test.iloc[:, -1].values"
   ]
  },
  {
   "cell_type": "code",
   "execution_count": 47,
   "id": "1d016359",
   "metadata": {},
   "outputs": [],
   "source": [
    "from sklearn.linear_model import LinearRegression\n",
    "regressor = LinearRegression()\n",
    "model = regressor.fit(X_train, Y_train)"
   ]
  },
  {
   "cell_type": "code",
   "execution_count": 41,
   "id": "59a8e193",
   "metadata": {},
   "outputs": [],
   "source": [
    "y_pred = regressor.predict(X_test)"
   ]
  },
  {
   "cell_type": "code",
   "execution_count": 43,
   "id": "79480e7b",
   "metadata": {},
   "outputs": [
    {
     "name": "stdout",
     "output_type": "stream",
     "text": [
      "0.9888014444327563\n"
     ]
    }
   ],
   "source": [
    "score = regressor.score(X_test, Y_test)\n",
    "print(score)"
   ]
  },
  {
   "cell_type": "code",
   "execution_count": 44,
   "id": "d6286b45",
   "metadata": {},
   "outputs": [
    {
     "data": {
      "image/png": "[encoded data removed]",
      "text/plain": [
       "<Figure size 1008x432 with 1 Axes>"
      ]
     },
     "metadata": {
      "needs_background": "light"
     },
     "output_type": "display_data"
    }
   ],
   "source": [
    "plt.figure(figsize=(14,6))\n",
    "plt.scatter(X_train, Y_train, color='red')\n",
    "plt.plot(X_train, regressor.predict(X_train), color='blue')\n",
    "plt.title('X vs Y (on Training set)')\n",
    "plt.xlabel('X Train')\n",
    "plt.ylabel('Y Train')\n",
    "plt.show()"
   ]
  },
  {
   "cell_type": "code",
   "execution_count": 45,
   "id": "73cf9832",
   "metadata": {},
   "outputs": [
    {
     "data": {
      "image/png": "[encoded data removed]",
      "text/plain": [
       "<Figure size 1008x432 with 1 Axes>"
      ]
     },
     "metadata": {
      "needs_background": "light"
     },
     "output_type": "display_data"
    }
   ],
   "source": [
    "plt.figure(figsize=(14,6))\n",
    "plt.scatter(X_test, Y_test, color='green')\n",
    "plt.plot(X_test, y_pred, color='red')\n",
    "plt.title('X vs Y (on Test set)')\n",
    "plt.xlabel('X Test')\n",
    "plt.ylabel('Y Pred')\n",
    "plt.show()"
   ]
  },
  {
   "cell_type": "code",
   "execution_count": 48,
   "id": "d262b380",
   "metadata": {},
   "outputs": [
    {
     "name": "stdout",
     "output_type": "stream",
     "text": [
      "coefficient of determination: 0.9907015319025518\n"
     ]
    }
   ],
   "source": [
    "r_sq = model.score(X_train, Y_train)\n",
    "print('coefficient of determination:', r_sq)"
   ]
  },
  {
   "cell_type": "code",
   "execution_count": null,
   "id": "87c40fd5",
   "metadata": {},
   "outputs": [],
   "source": [
    "\n"
   ]
  },
  {
   "cell_type": "code",
   "execution_count": null,
   "id": "d1f2579d",
   "metadata": {},
   "outputs": [],
   "source": []
  }
 ],
 "metadata": {
  "kernelspec": {
   "display_name": "Python 3",
   "language": "python",
   "name": "python3"
  },
  "language_info": {
   "codemirror_mode": {
    "name": "ipython",
    "version": 3
   },
   "file_extension": ".py",
   "mimetype": "text/x-python",
   "name": "python",
   "nbconvert_exporter": "python",
   "pygments_lexer": "ipython3",
   "version": "3.8.8"
  }
 },
 "nbformat": 4,
 "nbformat_minor": 5
}
